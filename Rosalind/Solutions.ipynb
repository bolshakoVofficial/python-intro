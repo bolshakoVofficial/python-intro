{
 "cells": [
  {
   "cell_type": "markdown",
   "metadata": {},
   "source": [
    "# 1. Counting DNA Nucleotides"
   ]
  },
  {
   "cell_type": "code",
   "execution_count": 1,
   "metadata": {},
   "outputs": [
    {
     "name": "stdout",
     "output_type": "stream",
     "text": [
      "250 235 252 262 "
     ]
    }
   ],
   "source": [
    "test_seq = \"AGCTTTTCATTCTGACTGCAACGGGCAATATGTCTCTGTGTGGATTAAAAAAAGAGTGTCTGATAGCAGC\"\n",
    "sequence = \"\"\n",
    "acid_dict = {}\n",
    "\n",
    "with open(\"rosalind_dna.txt\", \"r\") as f:\n",
    "    for line in f:\n",
    "        sequence += line.strip(\"\\n\")    \n",
    "\n",
    "for i in sequence:\n",
    "    if i in acid_dict:\n",
    "        acid_dict[i] += 1\n",
    "    else:\n",
    "        acid_dict[i] = 1\n",
    "\n",
    "for i in sorted(acid_dict):\n",
    "    print(acid_dict[i], end=' ')"
   ]
  },
  {
   "cell_type": "markdown",
   "metadata": {},
   "source": [
    "# 2. Transcribing DNA into RNA"
   ]
  },
  {
   "cell_type": "code",
   "execution_count": 2,
   "metadata": {},
   "outputs": [
    {
     "name": "stdout",
     "output_type": "stream",
     "text": [
      "AACCCUUAUACCGUCAGCCUUUUUCAAAGUAUUCCUCCGUAGACUUGGGUGCCCCUUUGCAAGGUUCUGCUUGCGAUAGCAACUGCCGGGGAUUUCGAACCUACCUUCGCCAUUAGGCGUUAUGAGGACAAAAAGUUCCCUAGUAGCAUGAGAGCAUAUUUAGACAUGUUAGAGGACCAGUUUCAAUGUUCAGAGUGUGAAAUACACAUUGUUAGGCCUGUUAACCUUGGCCGGUAGGUCUCGAAUGAUGAACCCCAAGGGGGAUACAUUGUUUGCGAUCCUGGCAGUGGUGUGCCCUAUUGGGUAGCAUGACCACCCUUGGGUAAUUGGGCGCGCCUUCCGGCGGUCUGCAUCACUGAGAAAGCAGGACGUGCGCUAUUCAUAACGGUAGAGACCAUUGGGUAUCCACGUUCGCGAGCUCAGUCUAUUAGACGCCUAGACGCAUCACAUGUGGUGUAUACGCGCUAAGUAUCCUAAAGACCACCUGAAACGAGGGAGCCCGUUCUAGUGCCGUGCUUGAUGAUAGGAAACGAUAUGACGCUCUUGGAUAUAACGUAGUGCCCUAGACCUACGCUAAGACCAUAAAUGCGAGUAUGUCGUAAAGUAGGGAUAUUCAACACAUCCGGCUCAGGAUAUUCGAUCUAGGACCAUCCUUAGAACGACCAAUUGCUGUAAAGCAUGCGAGUGACACAGUUGCCGCGUGCCCCAAGUGAAACAAAGAUUUAACUUGCUUAGAGCAUAUACAUAGCUCAAGGCCCUAUUAUCCGACACGCACCACUUCGGAGCCGAGGCGGAUAAUUUCGACGCAGGUGGUGGGGCCACGGUACGUACACUAUCACCAUGAUACGGCCCUGCUCCCGCACAUCACUCUGUCUUAGCACUAGUACAUAUAUUUGGAGCUAUUCCUAACAUUUUUGCAUCAAUAUUGGUUAUGUUACAAAUUACUGGCUGGGGCUAGAUUUCUGCAGGAGACGCCAUCAUGCGGUUGUA\n"
     ]
    }
   ],
   "source": [
    "test_str = \"GATGGAACTTGACTACGTAAATT\"\n",
    "real_str = \"\"\n",
    "\n",
    "with open(\"rosalind_rna.txt\", \"r\") as f:\n",
    "    for line in f:\n",
    "        real_str += line.strip(\"\\n\")\n",
    "\n",
    "print(real_str.replace(\"T\", \"U\"))"
   ]
  },
  {
   "cell_type": "markdown",
   "metadata": {},
   "source": [
    "# 3. Complementing a Strand of DNA"
   ]
  },
  {
   "cell_type": "code",
   "execution_count": 3,
   "metadata": {},
   "outputs": [
    {
     "name": "stdout",
     "output_type": "stream",
     "text": [
      "CGCTTTATCCAAGGACTTTGACAGCCGAAATAGTTACGAAGTTCAGCCGGGCCCATGAATTAGCAACAACATCTGGGTTTTATATGGCCTAGAGGAGAGTGCTGTCAACCGCAGATACCTTGACCACCGGGCACTTTGACTTTGAGGAATAGTAGGGTTATTTAAATTGTAACGGGGTTTTAAATGAATTTGTATGAGGCGAGACGACGGGGGCTCTAGCTAGATCGCCGTACATGTTTGGAACCGCGGGGCTCACGGAGGCAATTTATGTGCAAAATCACCAAGCGGAATTAAATACTAGTCGCGACCTCTACATAGCAGGGTCACTAGCAATCGGCACATCTTTAGTTCGGAAAAATGCCTTTGTGGCCAGCGATCTCGCACACGCATCTAAAGACATGTCGATCCATGGCTAGACGCTGTTGCTCGGTGATGTGTAGCGGCGCTAGATTCGTGCGCTCAGCGTGCGTGGCATTGATACGTTATTTGAAGCGAGATGGGGTCACAAACCTGGTGTGTTGGCAATCTGAGACCGTCATTCACCTAACAGTGCGTTGCTAGTGTGCTGTCAGCACAATCGCACGAGGCGCTCTGCCAAATGAGCTCCTGTCTCACAGTAATTGGATAGGTGTTCAGTAGACAAGTGCTCGCCACATCTACATTACGCTGTGGGCTGCACTAGACTTTTTACCTGAAGGTTCTCGCCATCGGGTTTCGAGGAGAATTGTACAGCGCGTGTATCAGTTGTTACAAGCCCCTTAGCCCCGGCGTCTCAGACAAGATCAGATGACCATCACAGGCTTGCGGGCAGTAACAGCGGTCGAGGGCAGCCATATGGCAACCCCTCGCATCATTAAATTCTTCCGGGTATGCCTCGATTGA\n"
     ]
    }
   ],
   "source": [
    "test_data = \"\"\n",
    "sample_data = \"AAAACCCGGT\"\n",
    "\n",
    "with open(\"rosalind_revc.txt\", \"r\") as f:\n",
    "    for line in f:\n",
    "        test_data += line.strip(\"\\n\")\n",
    "\n",
    "revers = test_data[::-1]\n",
    "\n",
    "revc = revers.translate(str.maketrans(\"ATCG\", \"TAGC\"))\n",
    "\n",
    "print(revc)"
   ]
  },
  {
   "cell_type": "markdown",
   "metadata": {},
   "source": [
    "# 4. Rabbits and Recurrence Relations"
   ]
  },
  {
   "cell_type": "code",
   "execution_count": 4,
   "metadata": {},
   "outputs": [
    {
     "name": "stdout",
     "output_type": "stream",
     "text": [
      "19\n",
      "8878212019\n"
     ]
    }
   ],
   "source": [
    "data = []\n",
    "with open(\"rosalind_fib.txt\", \"r\") as f:\n",
    "    for line in f:\n",
    "        data.append(line.strip(\"\\n\"))\n",
    "        split = [int(i) for i in data[0].split(\" \")]\n",
    "\n",
    "\n",
    "def rabbit_fib(n, k=1):\n",
    "    # n - nth month, k - number of produced rabbits\n",
    "    \n",
    "    prev, current = 1, 1\n",
    "    \n",
    "    for i in range(n - 2):\n",
    "        prev, current = current, current + prev * k\n",
    "    \n",
    "    return current\n",
    "    \n",
    "\n",
    "print(rabbit_fib(5, 3))\n",
    "print(rabbit_fib(split[0], split[1]))"
   ]
  },
  {
   "cell_type": "markdown",
   "metadata": {},
   "source": [
    "# 5. Computing GC Content\n",
    "\n",
    "Input:\n",
    "```\n",
    ">Rosalind_6404\n",
    "CCTGCGGAAGATCGGCACTAGAATAGCCAGAACCGTTTCTCTGAGGCTTCCGGCCTTCCC\n",
    "TCCCACTAATAATTCTGAGG\n",
    ">Rosalind_5959\n",
    "CCATCGGTAGCGCATCCTTAGTCCAATTAAGTCCCTATCCAGGCGCTCCGCCGAAGGTCT\n",
    "ATATCCATTTGTCAGCAGACACGC\n",
    ">Rosalind_0808\n",
    "CCACCCTCGTGGTATGGCTAGGCATTCAGGAACCGGAGAACGCTTCAGACCAGCCCGGAC\n",
    "TGGGAACCTGCGGGCAGTAGGTGGAAT\n",
    "```\n",
    "Output:\n",
    "```\n",
    "Rosalind_0808\n",
    "60.919540\n",
    "```"
   ]
  },
  {
   "cell_type": "code",
   "execution_count": 5,
   "metadata": {},
   "outputs": [
    {
     "name": "stdout",
     "output_type": "stream",
     "text": [
      "Rosalind_6721\n",
      "53.809524\n"
     ]
    }
   ],
   "source": [
    "with open(\"rosalind_gc.txt\", \"r\") as f:\n",
    "    input_data = \"\"\n",
    "    for line in f:\n",
    "        input_data += line.strip(\"\\n\")\n",
    "    \n",
    "input_data = input_data.split(\">\")[1:]\n",
    "\n",
    "labels = []\n",
    "dna = []\n",
    "\n",
    "for s in input_data:\n",
    "    labels.append(s[:13])\n",
    "    dna.append(s[13:])\n",
    "    \n",
    "gc_contents = []\n",
    "    \n",
    "for chain in dna:\n",
    "    gc_contents.append(round(100 * (chain.count(\"G\") + chain.count(\"C\")) / len(chain), 6))\n",
    "\n",
    "labeled_data = dict(zip(labels, gc_contents))\n",
    "sorted_data = sorted(labeled_data.items(), key=lambda item: item[1])[::-1]\n",
    "\n",
    "print(sorted_data[0][0])\n",
    "print(sorted_data[0][1])"
   ]
  },
  {
   "cell_type": "markdown",
   "metadata": {},
   "source": [
    "# 6. Counting Point Mutations\n",
    "\n",
    "Input:\n",
    "```\n",
    "GAGCCTACTAACGGGAT\n",
    "CATCGTAATGACGGCCT\n",
    "```\n"
   ]
  },
  {
   "cell_type": "code",
   "execution_count": 6,
   "metadata": {},
   "outputs": [
    {
     "name": "stdout",
     "output_type": "stream",
     "text": [
      "502\n"
     ]
    }
   ],
   "source": [
    "with open(\"rosalind_hamm.txt\", \"r\") as f:\n",
    "    chains = []\n",
    "    for line in f:\n",
    "        chains.append(line)\n",
    "\n",
    "\n",
    "s = chains[0]\n",
    "t = chains[1]\n",
    "\n",
    "hamming_dist = 0\n",
    "\n",
    "for i in range(len(s)):\n",
    "    if s[i] != t[i]:\n",
    "        hamming_dist += 1\n",
    "\n",
    "print(hamming_dist)"
   ]
  },
  {
   "cell_type": "markdown",
   "metadata": {},
   "source": [
    "# 7. Mendel's First Law\n",
    "Given:\n",
    "```\n",
    "Three positive integers k, m, and n, representing a population containing k+m+n organisms: k individuals are homozygous dominant for a factor, m are heterozygous, and n are homozygous recessive.\n",
    "```\n",
    "Return:\n",
    "```\n",
    "The probability that two randomly selected mating organisms will produce an individual possessing a dominant allele (and thus displaying the dominant phenotype). Assume that any two organisms can mate.\n",
    "\n",
    "\n",
    "X - dominant gene\n",
    "y - recessive gene\n",
    "Xy - heterozygous organism (m)\n",
    "yy - homozygous recessive organism (n)\n",
    "XX - homozygous dominant organism (k)\n",
    "\n",
    "      y      y\n",
    "\n",
    "X    Xy     Xy\n",
    "y    yy     yy\n",
    "\n",
    "\n",
    "      X      y\n",
    "\n",
    "X    XX     Xy\n",
    "y    Xy     yy\n",
    "\n",
    "\n",
    "Sample Dataset\n",
    "2 2 2\n",
    "Sample Output\n",
    "0.78333\n",
    "```"
   ]
  },
  {
   "cell_type": "code",
   "execution_count": 7,
   "metadata": {},
   "outputs": [
    {
     "name": "stdout",
     "output_type": "stream",
     "text": [
      "0.7759122157588577\n"
     ]
    }
   ],
   "source": [
    "with open(\"rosalind_iprb.txt\", \"r\") as f:\n",
    "    input_str = []\n",
    "    for line in f:\n",
    "        input_str.extend(line.strip(\"\\n\").split(\" \"))\n",
    "\n",
    "input_str = [int(i) for i in input_str]\n",
    "\n",
    "k, m, n = [*input_str]\n",
    "N = k + m + n\n",
    "\n",
    "\n",
    "# P(X) - prob that organism will recieve dominant gene X\n",
    "# P(X) = 1 - P(notX)\n",
    "# P(notX) = P(yy+yy) + P(yy+Xy) * 1/2 + P(Xy+yy) * 1/2 + P(Xy+Xy) * 1/4\n",
    "\n",
    "\n",
    "# P(yy+yy)\n",
    "p_yy_yy = (n * (n - 1)) / (N * (N - 1))\n",
    "\n",
    "\n",
    "# P(yy+Xy) * 1/2 + P(Xy+yy) * 1/2\n",
    "p_yy_Xy = (n * m) / (N * (N - 1))\n",
    "\n",
    "\n",
    "# P(Xy+Xy) * 1/4\n",
    "p_Xy_Xy = (m * (m - 1)) / (N * (N - 1) * 4)\n",
    "\n",
    "\n",
    "# P(X)\n",
    "p_x = 1 - (p_yy_yy + p_yy_Xy + p_Xy_Xy)\n",
    "\n",
    "print(p_x)"
   ]
  },
  {
   "cell_type": "markdown",
   "metadata": {},
   "source": [
    "# 8. Translating RNA into Protein\n",
    "```\n",
    "Problem\n",
    "The 20 commonly occurring amino acids are abbreviated by using 20 letters from the English alphabet (all letters except for B, J, O, U, X, and Z). Protein strings are constructed from these 20 symbols. Henceforth, the term genetic string will incorporate protein strings along with DNA strings and RNA strings.\n",
    "\n",
    "The RNA codon table dictates the details regarding the encoding of specific codons into the amino acid alphabet.\n",
    "\n",
    "Given: An RNA string s corresponding to a strand of mRNA (of length at most 10 kbp).\n",
    "\n",
    "Return: The protein string encoded by s.\n",
    "\n",
    "\n",
    "RNA codon table\n",
    "\n",
    "UUU F      CUU L      AUU I      GUU V\n",
    "UUC F      CUC L      AUC I      GUC V\n",
    "UUA L      CUA L      AUA I      GUA V\n",
    "UUG L      CUG L      AUG M      GUG V\n",
    "UCU S      CCU P      ACU T      GCU A\n",
    "UCC S      CCC P      ACC T      GCC A\n",
    "UCA S      CCA P      ACA T      GCA A\n",
    "UCG S      CCG P      ACG T      GCG A\n",
    "UAU Y      CAU H      AAU N      GAU D\n",
    "UAC Y      CAC H      AAC N      GAC D\n",
    "UAA Stop   CAA Q      AAA K      GAA E\n",
    "UAG Stop   CAG Q      AAG K      GAG E\n",
    "UGU C      CGU R      AGU S      GGU G\n",
    "UGC C      CGC R      AGC S      GGC G\n",
    "UGA Stop   CGA R      AGA R      GGA G\n",
    "UGG W      CGG R      AGG R      GGG G \n",
    "\n",
    "\n",
    "\n",
    "Sample Dataset\n",
    "AUGGCCAUGGCGCCCAGAACUGAGAUCAAUAGUACCCGUAUUAACGGGUGA\n",
    "Sample Output\n",
    "MAMAPRTEINSTRING\n",
    "```"
   ]
  },
  {
   "cell_type": "code",
   "execution_count": 8,
   "metadata": {},
   "outputs": [
    {
     "name": "stdout",
     "output_type": "stream",
     "text": [
      "MCRSIPRRSLKAPLSVEHIVALTPMIVNAHVDELTRLRNEARFACLAPAFSPNLLLGPALLPATVFGPLVQSGWIVLRPPATNGSSCPRQQSDFSREFSKGLPPSDPYPLIILLDALNRVAPPKRSVVDLNVGVSGDCTVPNSQYLCVAHVNGLNVHFLAGSRNRTAKRSFINQRAAKGSREAGLAPGNTYLIIPWPRTTVRLIRDKACLFVRRIYCRASNGSMLFLLSVVTNDQPGNSQATRLHHRSSSTGDNRGFYPMRLNAESGVANTSARIRKFLGPRVEDPAHRLELLGKIPNSVYRTKRKVRASLFLYQAPSVNKPIPVEKILVAEYVVIISVLADSGHSLSSSWRHRLFDRNSLLTCFSLSADVITKIGYCRCTGSTLVRFCPKTLIDQVSLVRLGSTRQIAYQQVQTPQRVRSGGHSTRHVASNRGASELSTPTPNFSRKPCKTKRPYRKPLSSPQVSMWQLDRALGVLAEDTHPCIKKHTSGRETADNRGPEPPRGVRTTYTGPRSKLARVHRSWDSLAQVPEEILLTVAPASAYVDFSQLTCPCYHIRVIATEGDAHWEDARSFASCTRPGRTRVCDANFLLTFHRNHLGYLRHPQDGSHLLPIPLLTPKHSPVCKTPDLVSNYISCSGSKCCDSVATGAPTYSVVFVTARLLNSCILGLSVTSSACLCTELDYNHLSLMMRQALSLTASQRARSSLDLSMDPRQLIRAGARTKLAFLLCGRSTFPCFNRGQTGRPNSHDKCRERTCVAIPVGYSYVVYSVDVTQVIEEENKYLPSLEMESTAPLNLRTSGADPTRGFRAWMVLYVPLLYGPSYPMATPPSFLFPVSNDRAPSHKAAHTIWWKSRGVLSARVSMPHISRERLAIRETCQDWTAKEDLVPLLVARETSACLRADLISGGVGENHNVVKPADQRIRVMVVLNIYGKSRLVVAIYRQMACPFAFSAGRSTLVAPDGFLQVLCGPGQAGLSLDWVPLYDLRVVSRPLSSPTVFYPVFHLTMFYNGTLSCGGVAVRTCCSGLCGLLSPLLVYGTVQCLILGHRTWPFISRVQVKVGLTVKSRQVGAHMGLKGSHRNFGWKLVDETNDVHWSVIFELPPLLPYTSKDCGHLKVWLKWYIVQYPPDMDLKSTTMSCPSKHVIITAIGLQCNDEANEAAASASHARWSSTISITRYPARPPAVVRWLRRKNGRAHSESLRGSRDPEDSPGDDATCSRNTRTGGTESGQGQKRLRFDEIENADRFSGPHDFVSCYYANGLGSGWQLVELLFVRWAWHAINNHSLRHGRHNYKAKKVVQAGAKIVRFVAVSSGRDTSIQYEAENEPELHNLGREAIQELLGTHSTIRAAASTALREPPSLFPGVSVDSTGRAMFNRRATPRGFDSVCVALTRPGVYRASRYFVLSDITTRRKFETKVISTFKTLKDTFGNLRRQSVILLSRVLARLGSASGILSCVECWIGPPHGTGRFPIVSYLGSRKCRSFSGMRHPNAPEFPFHLMRHINGHLLAFLGPCVRSCSMYQLFANRYRPKTYEGLGMPCRSSSRDTVIPYVQGASDMVIDWCTRNIGRDVFVPIFSYWNRIEPCPQACNRFEQFPTKPVFRGFSLAAHPECGVVNIECIDLGRPRSVWGQTCLHSMGAELKRPCASGTNLYRKTKRFPGAKTMARNLTFVNFWLIDTWGSRQGYFCTWIITYSVCSFMIVIRTGNTPQAVVASASAVKLARLPNARSYQGSGPYRWLSRTSLTSAARVNTIEPGSRAPYFKTMCAPGTPARVCVSARKAIQFMATTFCWTRTPTNELLRNRPGPTLERASTLGYRRLSAHSTSPTQHIGWGRKQAVMLIEPFGEGWYIQVLGNPIQYHIISCRLRVPLNVATDRYDALVPSFYLYLLHGSRDIPRIATRRVRREKMSILSKSFLTNISNLRGLGDRIAARAPRCSFYFRWDLWRIISSLPFAQHRGSKLYHEKAWRRVHFNLSSPNDWMLSVSRVTCLSTRRNLLRSSTARRNLMDVSCRCSRYPYARISRPCIPGGDESQLLWFSDYDTYVIKCSGLWYTRFTIRDTSGSSRKIGWSLPVRTWSTYGNISQANDTSILSTMNPCSSILAHNAKYAPSVRSVAFLRKQHCYSPNTWVTAHVECALPSEWSGMRLEIIEVINLRLPYVARLLPSTSALHSSASNVTLVHAGKATPYVRVMRSSEVTRYRLYIAVRTDWRSLWEHELVETSRLSALSFLCYMYTQIVTCNHNIRAIRPVKVIARMTTLRSRYRNNPKRCNDLPLWVGLTLPNTCDSMHVFFTKTTGRHLRVFPIDTNPWLLCGPHHLAPRPVVRLVHDSRFVCALGHQPKPVSITWSNTKRSLYLMLVLEAQWVARANASRSTQLYNLIYWRRFKRLERLGISDCFRRAGPWTYQGMKERTVAHPPMSPAGYAKLHLSVYNGNKWLRLVSSFIALGPRTQANNPSHLGLLNPALGPGVRSVSTPHTRPLLRAQLNFIRAQLIMPGLGKSWSRLDLLVVGVLRVTRILFGMYPIGCRSYLPFGVATNWDAGVSIYVVLNGSRYSMPTRYITTVERSIIGAKRINIVGDARSVCYGWTIVHRFDRSRGYSQARMQRGTPAPTTHATLPLDAGLDRKGYSSCTCQATSSRESSRRLVSIQETRPTTAVCAAICAVELSHLFPLIRMRDLASRLCRFVHLKMRKPAPVRRQTNRAHPIRLVHRAAALRGTSSKGLTVFASQRRYFRDINPSGDESTREKYLLAQARLFTTSNYSVSTWPDLRIPVVKGSHYRWCICLGTDWHPASCLAYDFLYGIRQCQSMSLAQITRHNVRAVDFETRHGAAPWPIIKQDQKTSGGLLESLLSLKTNCGAGCVRQWQDGIPAENSYVGILAISIVRSVTLTQGQSYKRNARVDLPLRKEVFTPTKIGASEWITVLSPSAWERRASSRRRSPLIRALSSLAALINGTLNTEEDSKYENHLRAIIMSLSLRDTANRRGNSVLYFRLFGRSQDITSNVGDSDRVSTASDSTVVPRLYASWFKSRCIFPTVKRLIRECPWTSFSCNYFNLLVFKYTPHRTNCLSFYPHNTWEVSDQTNFHGNSWTQGPLGYSGLRQRAHLRGVSRRVQLSTLYYASSAVPRHFTNRARGGVISSNLHINRETRPTGIVVHAARRKCEHIPID\n"
     ]
    }
   ],
   "source": [
    "# test_string = \"AUGGCCAUGGCGCCCAGAACUGAGAUCAAUAGUACCCGUAUUAACGGGUGA\"\n",
    "test_string = \"\"\n",
    "protein = \"\"\n",
    "\n",
    "with open(\"rosalind_prot.txt\", \"r\") as f:\n",
    "    for line in f:\n",
    "        test_string += line.strip(\"\\n\")\n",
    "\n",
    "with open(\"rna_codon_table.txt\", \"r\") as f:\n",
    "    raw_info = []\n",
    "    for line in f:\n",
    "        for s in line.strip(\"\\n\").split(\" \"):\n",
    "            if s != \"\":\n",
    "                raw_info.append(s)\n",
    "\n",
    "rna = raw_info[::2]\n",
    "acid = raw_info[1::2]\n",
    "codon_dict = dict(zip(rna, acid))\n",
    "\n",
    "for i in range(0, len(test_string), 3):\n",
    "    if codon_dict[test_string[i:i+3]] == \"Stop\":\n",
    "        break\n",
    "    protein += codon_dict[test_string[i:i+3]]\n",
    "\n",
    "print(protein)"
   ]
  },
  {
   "cell_type": "markdown",
   "metadata": {},
   "source": [
    "# 9. Finding a Motif in DNA\n",
    "\n",
    "```\n",
    "Given: Two DNA strings s and t (each of length at most 1 kbp).\n",
    "\n",
    "Return: All locations of t as a substring of s.\n",
    "\n",
    "Sample Dataset\n",
    "GATATATGCATATACTT\n",
    "ATAT\n",
    "Sample Output\n",
    "2 4 10\n",
    "```"
   ]
  },
  {
   "cell_type": "code",
   "execution_count": 9,
   "metadata": {},
   "outputs": [
    {
     "name": "stdout",
     "output_type": "stream",
     "text": [
      "13 21 62 69 76 106 119 194 201 283 315 328 343 350 368 385 406 550 557 564 594 601 609 616 623 683 690 712 759 787 817 896 904\n"
     ]
    }
   ],
   "source": [
    "# s = \"GATATATGCATATACTT\"\n",
    "# t = \"ATAT\"\n",
    "input_str = []\n",
    "s = \"\"\n",
    "t = \"\"\n",
    "\n",
    "with open(\"rosalind_subs.txt\", \"r\") as f:\n",
    "    for line in f:\n",
    "        input_str.append(line.strip(\"\\n\"))\n",
    "        \n",
    "s = input_str[0]\n",
    "t = input_str[1]\n",
    "indices = []\n",
    "\n",
    "for i in range(len(s) - len(t)):\n",
    "    if s[i:i+len(t)] == t:\n",
    "        indices.append(i+1)\n",
    "\n",
    "print(*indices)"
   ]
  },
  {
   "cell_type": "markdown",
   "metadata": {},
   "source": [
    "# 10. Consensus and Profile\n",
    "\n",
    "```\n",
    "Given: A collection of at most 10 DNA strings of equal length (at most 1 kbp) in FASTA format.\n",
    "\n",
    "Return: A consensus string and profile matrix for the collection. (If several possible consensus strings exist, then you may return any one of them.)\n",
    "\n",
    "Sample Dataset\n",
    ">Rosalind_1\n",
    "ATCCAGCT\n",
    ">Rosalind_2\n",
    "GGGCAACT\n",
    ">Rosalind_3\n",
    "ATGGATCT\n",
    ">Rosalind_4\n",
    "AAGCAACC\n",
    ">Rosalind_5\n",
    "TTGGAACT\n",
    ">Rosalind_6\n",
    "ATGCCATT\n",
    ">Rosalind_7\n",
    "ATGGCACT\n",
    "\n",
    "Sample Output\n",
    "ATGCAACT\n",
    "A: 5 1 0 0 5 5 0 0\n",
    "C: 0 0 1 4 2 0 6 1\n",
    "G: 1 1 6 3 0 1 0 0\n",
    "T: 1 5 0 0 0 1 1 6\n",
    "```"
   ]
  },
  {
   "cell_type": "code",
   "execution_count": 10,
   "metadata": {
    "scrolled": false
   },
   "outputs": [
    {
     "name": "stdout",
     "output_type": "stream",
     "text": [
      "CGTTGCGCGCCTGCTATGAGGGTCGTGACGTCTGTTAACGTCAGTTTTTAGTTCGTAGATCGTAATTTTCCTTTCTCGACTGAATTCTACGTTTTCTCTTCGCTGCTAATGTCGCGAGATATTGTTCCGGGGTTGCATACTTACTCTTGTCCTGGGGGTTATCTGCAGACTGCCCCCTATTCTATGGTGCAAGATTAGGCCATATTTGGGTGGCCATTGCGTGGCTACTCGCCGCCTTTGCTGTGTTTCCAAGTAGTTTTTCTCAGTCTGTTTGTTAGGGTGGAGCTGATATGGTACGCAAGACTATGATATAGTCGGTCGAGCTACAGATCCGCGGATAAGAACATCCCTGAGGCATCTTCGTTTCTCTCAGTGAGAGAAGGTCGTTTTTGACTAATAGTTTGTGGACTTGATTGCTTTGAGGCGTGAGAGCTTCATGCGTAGTGTAACTTCTATCTTACTACCTGGGATTCAGTCGGTATTGGCACCTAACGTATAACCTGCAGATAAATATGGTAGCTTGGGTTTGAGTCCCTGTCCAAAGGCCTTACACAGTCCCGATCCTTGTCCCTGTGGGGATTTCCGTTGCAGCTTAGGAGGTACTTTCGTGGGACGGAATCTAAGCATCGTTATGGTAATTTTCCTGACGGGACATTAGCCCAGACCCATTCTCGTAACGCTGGTTGCCGGGCCGGTGATCCTCTGACTGGGTTTATTCTGACGGGCGCGGTTGCCTGGGTTGGGCTATATACTGCGCGTCCGTGGCCTACCCAGTATTTCACCGTTACGTCCCGTTTAGTAGTTTTCTCAGTTGCTACACGCTACTAGTTTCGCGGCCGATCCTACTAGAGAGCTCTCATGTGTAAAGCTTGGGTAGTCTTGCGATTCCTTTTTGCGGCGGGTAGTTCTCCGTGTGAACTATGAACTCCGCTGTATTTTTAGTGCTCCTCTGTGTTGCCTGCATGGAGACCGCTTGGATGTTAGCGAATTCA\n",
      "A: 3 4 1 3 1 4 1 3 3 1 4 2 2 0 2 5 3 3 4 1 3 3 3 4 2 2 3 4 2 3 2 1 0 0 0 2 4 5 1 4 2 2 4 3 2 1 1 3 3 5 2 3 2 3 3 2 4 3 4 3 2 2 3 4 4 2 3 2 3 2 3 3 0 1 3 0 3 2 4 3 2 1 4 4 1 1 3 1 5 2 3 2 2 3 2 1 2 3 2 3 2 3 3 2 2 1 1 5 6 2 2 2 2 2 2 2 4 1 6 2 5 1 2 1 3 2 1 1 4 3 2 2 3 2 1 1 4 1 5 3 2 1 4 3 2 2 3 3 2 1 2 1 1 2 1 3 3 2 1 2 4 0 1 3 1 3 6 3 5 3 2 3 1 2 1 2 3 1 5 0 2 3 1 5 2 2 2 1 2 4 5 4 4 4 3 3 5 2 2 3 3 4 1 4 2 2 1 3 4 3 1 3 4 3 3 6 1 2 4 3 2 3 2 3 2 3 4 1 3 0 2 3 3 3 3 3 1 2 2 3 2 4 2 3 0 1 2 1 4 2 5 4 4 1 4 3 0 1 1 3 1 2 5 2 5 1 2 2 2 1 3 1 1 0 2 0 4 3 1 2 3 3 2 4 2 2 2 2 4 4 5 2 2 2 3 4 2 2 3 4 5 3 6 1 3 5 1 3 4 1 4 1 6 3 0 3 3 3 2 0 2 5 3 1 3 5 3 5 3 5 1 0 3 4 3 2 2 6 3 6 4 2 4 4 4 5 1 2 3 3 1 3 4 1 3 3 5 2 1 1 2 2 4 1 1 2 1 1 2 3 2 5 2 2 2 5 0 4 2 4 5 1 3 2 3 3 2 1 2 2 3 3 6 3 2 5 4 0 5 4 3 2 3 3 3 4 2 5 3 3 2 2 4 1 2 1 2 2 3 1 3 4 2 2 3 4 4 4 5 1 6 3 4 1 2 2 6 1 2 3 3 2 5 2 3 2 3 4 5 4 2 3 2 2 6 3 3 2 3 4 2 2 5 0 2 3 1 3 2 6 2 0 3 4 1 3 3 3 1 2 5 1 3 2 3 3 5 0 2 2 4 5 3 1 2 4 3 5 4 1 1 1 1 1 4 3 5 2 4 4 4 1 4 3 2 1 1 6 1 3 1 1 3 2 1 1 3 2 3 4 2 4 4 2 1 1 0 2 4 1 4 4 4 3 1 0 3 2 2 4 4 4 3 4 3 2 3 0 2 1 4 1 2 1 0 3 0 3 3 3 1 3 1 1 0 1 2 2 4 2 2 3 1 4 2 0 2 2 2 4 0 2 3 1 4 3 4 4 3 3 2 4 3 2 1 2 2 3 1 3 2 2 6 2 2 2 7 4 2 2 2 6 4 3 2 4 2 2 3 1 3 5 3 1 1 3 4 4 3 2 3 3 2 2 3 2 5 2 2 3 3 4 2 4 1 3 4 2 1 2 3 4 1 5 3 3 2 6 3 2 2 3 3 2 2 5 4 3 2 4 2 3 4 1 1 3 2 2 0 2 2 2 2 3 0 3 2 4 2 2 2 2 1 3 3 4 1 3 1 1 1 3 3 3 4 2 2 3 2 1 4 2 3 1 3 2 2 2 3 0 1 1 3 3 2 2 0 2 2 3 3 2 0 2 4 2 5 1 5 2 6 2 1 3 3 0 2 1 3 0 2 2 2 3 1 2 1 1 5 3 3 3 4 3 2 4 3 3 2 4 4 1 0 2 1 3 6 2 0 2 2 3 0 0 2 0 3 4 1 2 4 4 1 1 1 1 2 4 2 4 2 2 3 3 1 1 4 3 4 1 1 1 3 4 1 3 4 4 2 3 3 3 0 4 3 1 2 3 3 4 2 3 0 1 4 3 1 4 2 5 3 5 1 2 2 2 2 2 4 3 2 0 1 3 4 4 4 3 2 2 1 2 2 1 3 6 4 2 1 3 2 2 1 2 4 3 2 2 3 1 1 2 4 3 2 3 4 1 3 0 3 2 3 6 2 3 1 2 2 1 0 1 2 1 1 1 4 4 0 1 5 3 3 5 4 1 2 1 2 2 3 2 2 1 4 1 3 3 3 2 4 3 1 3 2 2 4 2 3 2 0 1 2 3 2 2 3 0 4 2 2 3 6 2 1 3 4 2 5 3 3 1 2 2 2 1 3 5 2 2 3 2 5 3 3 2 4 4 3 2 0 5\n",
      "C: 6 2 4 3 2 4 2 3 1 4 4 1 2 6 3 2 2 2 3 3 1 0 1 4 2 2 2 2 4 0 3 4 4 3 4 3 3 2 5 0 2 4 2 2 2 4 1 1 0 0 1 3 1 4 0 2 2 2 1 3 4 3 1 1 2 2 0 3 1 5 5 1 2 2 4 3 3 3 2 5 2 4 2 2 0 3 5 3 3 6 3 2 3 2 2 5 4 4 2 3 6 2 4 1 2 4 4 2 2 1 1 3 4 3 4 3 1 2 2 2 0 3 3 3 0 2 4 5 0 1 4 3 2 2 3 4 2 3 2 4 3 2 1 3 2 5 2 2 0 3 5 4 3 1 2 2 2 3 1 2 3 1 8 0 4 3 0 1 2 4 3 2 6 5 4 4 3 3 2 3 3 6 3 2 1 2 1 2 2 4 0 2 2 1 2 3 4 2 3 4 4 2 1 0 3 2 1 1 1 2 4 3 1 4 4 2 2 3 0 3 0 2 3 0 4 2 2 5 1 6 1 5 3 3 4 4 3 2 1 3 4 0 2 0 3 3 2 2 4 5 4 1 1 1 1 2 4 2 2 1 3 4 0 4 1 2 3 4 0 3 2 3 1 4 3 1 3 1 2 3 2 2 3 3 0 5 2 1 2 1 1 2 3 3 2 3 4 3 5 2 1 2 0 5 3 1 1 3 3 2 2 2 1 3 4 4 1 3 3 4 3 0 3 4 2 1 4 2 2 4 2 4 5 0 4 3 3 2 2 2 3 2 2 1 4 4 2 5 3 5 2 0 3 1 1 3 1 1 4 4 2 5 0 3 0 3 4 1 4 3 4 2 3 3 3 1 0 1 1 2 3 4 3 2 3 0 3 3 2 2 2 2 2 3 2 3 2 2 1 1 2 3 2 1 1 1 3 0 3 1 2 2 1 1 2 0 4 3 1 1 2 3 3 2 3 1 1 1 0 2 0 2 4 1 2 4 3 2 3 4 1 1 3 1 3 1 3 3 4 4 3 1 4 3 0 2 6 2 1 3 5 3 0 5 4 1 1 2 3 2 2 3 3 3 4 3 3 1 2 3 2 3 2 2 1 4 3 4 5 1 2 3 4 2 2 3 2 2 2 4 5 1 3 5 1 2 3 2 3 2 2 4 0 1 3 0 4 1 2 3 3 3 0 1 1 3 1 3 3 2 1 0 4 4 6 3 3 1 4 5 3 1 2 0 1 4 5 1 1 2 4 1 4 2 3 3 4 5 5 3 1 2 4 5 3 2 4 2 3 4 5 2 2 4 1 1 2 3 3 0 1 0 4 4 2 3 3 1 5 3 0 4 2 1 1 2 1 3 2 2 2 2 4 3 0 2 4 2 3 2 3 2 1 4 2 3 3 3 2 4 2 0 1 1 4 2 0 4 2 4 1 2 3 4 3 3 0 2 3 3 1 1 4 5 2 1 2 5 1 2 3 3 5 3 2 1 1 3 6 4 4 0 2 2 3 4 4 0 2 3 4 1 5 3 1 3 0 3 3 4 2 3 1 1 2 1 4 4 2 3 2 5 4 2 4 2 3 3 2 5 4 1 5 3 2 2 5 2 1 3 4 2 3 1 1 0 0 4 3 3 0 4 3 2 1 4 3 4 1 2 2 2 2 3 4 3 4 3 1 2 2 2 3 1 4 2 1 3 4 1 2 4 3 2 3 3 4 3 3 4 4 1 2 2 4 5 4 3 2 3 4 5 1 0 2 2 2 2 3 5 2 5 5 1 3 1 2 5 1 2 6 5 5 3 2 3 3 2 3 3 2 1 3 3 3 3 4 0 4 3 2 3 2 2 4 2 2 3 1 5 1 4 2 3 7 0 1 0 2 3 3 4 3 4 2 2 5 4 2 2 3 4 5 3 1 4 1 2 3 2 0 2 3 4 3 5 0 6 3 2 0 3 4 3 2 1 2 2 5 2 1 1 3 4 2 1 1 2 5 1 2 3 5 2 3 1 2 4 4 3 0 2 0 0 1 4 0 1 4 4 2 2 0 0 3 3 3 4 2 4 6 2 2 2 2 1 2 2 5 3 0 0 2 1 2 5 1 4 4 2 3 1 1 1 2 2 0 0 2 1 3 2 3 0 4 2 4 4 2 4 3 4 1 2 1 3 1 5 4 2 3 5 2 2 1 2 1 3 1 3 5 3 4 0 3 1 2 1 2 1 1 3 2 2 4 3 3 2 0 3 5 2\n",
      "G: 0 4 1 1 4 2 6 2 5 2 1 1 4 3 2 1 2 3 1 4 5 5 3 1 4 3 3 1 2 4 1 2 2 5 2 2 2 1 1 4 2 1 3 3 2 0 1 2 3 2 5 1 3 1 5 2 2 3 3 1 1 3 3 2 3 2 2 2 2 2 1 3 3 3 2 3 2 3 1 2 3 4 2 3 3 3 1 3 1 1 3 2 2 2 3 4 0 1 3 1 1 4 1 3 4 3 1 2 0 3 5 2 2 3 2 5 2 5 1 2 4 3 2 4 2 3 3 2 4 5 4 4 1 2 4 2 1 1 1 1 2 2 2 2 2 2 2 1 5 3 2 3 2 4 5 3 3 4 4 1 1 3 1 2 4 2 1 5 1 2 1 3 2 3 3 3 2 3 1 2 2 1 3 2 3 4 4 2 4 0 3 3 4 3 2 1 0 5 4 1 2 2 3 3 1 2 4 4 4 3 1 3 5 1 2 1 3 2 5 2 7 1 3 4 2 1 3 1 3 2 4 0 2 3 2 2 3 1 2 3 3 2 4 3 4 3 2 3 0 0 1 2 4 2 2 3 2 3 2 3 1 2 0 3 2 5 0 2 3 4 2 3 4 5 1 3 1 4 4 3 2 3 3 2 7 2 2 4 3 1 1 3 3 4 0 3 1 3 1 2 4 3 2 1 1 2 2 3 1 3 2 2 0 3 2 1 4 4 1 3 3 3 4 2 2 4 2 3 3 1 3 3 1 5 1 4 4 2 2 2 3 4 2 2 1 0 3 2 2 0 3 4 1 6 5 2 2 2 2 1 0 0 4 3 2 2 2 3 2 1 2 1 4 2 3 4 8 2 5 1 1 5 3 3 2 4 2 3 3 2 1 3 1 2 3 1 2 4 3 4 2 2 1 5 2 4 4 1 2 1 1 5 3 3 3 5 2 2 2 4 3 1 3 5 2 4 1 4 3 4 3 3 2 4 3 3 1 2 3 2 5 2 1 6 1 4 1 3 0 2 2 3 3 1 1 2 0 1 3 1 1 2 3 4 2 2 7 4 3 1 3 2 2 2 5 1 2 4 5 2 1 2 2 5 4 1 1 3 0 3 1 1 2 5 2 2 2 2 1 2 4 3 4 2 2 3 0 3 1 1 3 1 3 2 3 5 1 1 6 2 2 2 4 6 5 2 2 2 3 2 4 1 1 3 0 3 4 1 1 2 2 3 3 5 7 3 2 3 1 2 0 3 2 2 3 2 1 4 1 4 3 3 2 4 2 2 4 2 2 2 1 2 4 1 6 5 4 3 1 4 1 3 3 1 5 3 2 4 2 3 6 3 2 3 3 3 4 1 4 5 2 3 1 1 3 1 1 3 1 4 3 6 2 2 4 5 0 0 2 1 3 1 2 4 1 1 2 1 5 1 3 3 0 4 5 1 3 3 1 2 1 3 1 1 1 5 2 0 5 4 3 2 1 3 3 3 2 4 2 2 2 3 5 1 2 2 1 1 2 2 1 2 1 3 3 0 3 2 4 0 3 3 4 4 3 4 1 2 5 3 5 3 3 3 4 2 3 2 3 2 2 3 2 1 4 1 2 2 5 4 4 1 1 2 3 4 4 3 1 4 3 3 4 4 5 1 4 3 4 7 3 3 3 2 1 1 4 3 4 2 2 5 4 6 0 3 1 1 0 3 2 3 2 3 2 5 2 4 1 3 1 5 2 3 4 2 3 2 1 2 3 2 3 4 3 2 2 1 0 0 3 1 4 5 3 3 1 2 5 3 2 0 3 5 2 2 1 1 4 2 3 4 3 1 3 3 1 2 3 3 4 2 0 3 2 3 2 2 2 2 5 2 1 3 0 3 2 4 1 0 1 3 4 2 3 6 1 0 3 2 2 1 4 2 3 0 4 2 3 3 4 2 4 1 0 2 4 2 0 2 5 3 5 1 2 2 2 4 1 3 1 4 4 4 2 0 4 3 0 3 3 4 3 4 3 2 2 1 2 2 3 2 2 3 4 0 4 5 1 5 3 4 2 3 5 1 3 2 2 3 1 5 3 4 3 5 2 2 4 2 3 3 3 3 1 1 3 2 1 5 2 3 4 3 2 3 3 1 1 2 1 3 2 4 3 3 0 2 2 3 1 4 2 3 2 1 5 4 2 1 3 1 2 3 5 3 2 3 3 2 0 6 1 2 0 5 4 4 3 4 3 2 1 3 1 3 3 2 0 1 4 2\n"
     ]
    },
    {
     "name": "stdout",
     "output_type": "stream",
     "text": [
      "T: 1 0 4 3 3 0 1 2 1 3 1 6 2 1 3 2 3 2 2 2 1 2 3 1 2 3 2 3 2 3 4 3 4 2 4 3 1 2 3 2 4 3 1 2 4 5 7 4 4 3 2 3 4 2 2 4 2 2 2 3 3 2 3 3 1 4 5 3 4 1 1 3 5 4 1 4 2 2 3 0 3 1 2 1 6 3 1 3 1 1 1 4 3 3 3 0 4 2 3 3 1 1 2 4 2 2 4 1 2 4 2 3 2 2 2 0 3 2 1 4 1 3 3 2 5 3 2 2 2 1 0 1 4 4 2 3 3 5 2 2 3 5 3 2 4 1 3 4 3 3 1 2 4 3 2 2 2 1 4 5 2 6 0 5 1 2 3 1 2 1 4 2 1 0 2 1 2 3 2 5 3 0 3 1 4 2 3 5 2 2 2 1 0 2 3 3 1 1 1 2 1 2 5 3 4 4 4 2 1 2 4 1 0 2 1 1 4 3 1 2 1 4 2 3 2 4 1 3 3 2 3 2 2 1 1 1 3 5 5 1 1 4 2 4 3 3 4 4 2 3 0 3 1 6 3 2 4 4 5 3 5 2 5 1 2 2 5 2 5 2 3 3 4 1 4 6 2 2 3 2 3 2 2 1 1 1 4 3 1 4 3 3 2 1 5 0 3 2 1 2 0 2 2 3 3 2 6 1 2 4 2 5 3 1 4 2 2 0 4 3 2 2 0 3 3 0 1 0 2 0 4 3 1 1 2 1 1 0 3 0 0 2 2 3 1 1 4 1 2 2 4 3 2 2 1 2 2 5 3 4 6 3 2 3 7 3 3 5 2 3 2 2 1 3 2 0 2 3 2 3 1 0 1 3 2 3 3 3 3 4 4 2 1 2 3 1 2 4 1 1 3 3 4 1 4 1 1 4 2 5 5 1 2 5 3 4 2 3 4 4 2 2 2 1 2 1 4 1 2 3 1 2 0 4 3 1 0 5 2 1 1 5 1 1 3 3 3 0 1 0 3 3 1 4 3 3 1 5 3 2 2 3 2 1 2 4 1 1 2 1 3 5 2 1 0 3 2 2 2 3 2 4 3 1 2 2 1 3 3 4 3 1 1 2 4 1 3 1 3 3 0 5 2 2 3 2 2 3 2 3 1 4 3 4 2 4 4 2 1 2 4 4 3 1 3 4 4 3 1 2 3 5 1 1 3 3 3 6 1 2 1 2 1 2 1 3 0 4 6 2 2 2 1 2 1 3 2 1 2 2 2 4 2 0 5 3 2 3 2 1 3 3 3 4 3 3 2 2 2 4 6 4 2 1 1 4 3 3 1 0 4 1 3 5 2 2 1 2 1 0 4 1 2 4 6 5 3 2 5 1 2 0 1 2 2 0 0 3 4 3 3 3 3 2 3 3 6 3 0 4 3 0 4 1 1 3 3 1 3 3 5 3 3 2 4 2 1 3 2 1 1 1 2 0 4 3 3 1 1 2 1 3 2 2 2 1 3 3 3 3 3 4 1 2 4 2 3 2 1 2 3 1 1 4 4 2 3 2 3 2 1 0 1 2 2 3 2 1 3 1 2 4 2 3 1 3 2 3 3 2 1 4 3 4 2 4 4 0 4 2 3 1 0 3 1 3 1 1 2 1 4 4 2 2 3 4 2 2 3 3 3 1 3 1 2 3 3 5 1 4 0 1 4 2 2 2 2 2 3 3 3 2 4 2 1 1 2 4 2 2 0 0 2 3 3 2 3 4 5 1 1 3 1 2 3 3 1 1 4 3 0 2 2 2 4 5 3 3 2 3 1 1 3 5 3 3 3 4 1 0 2 3 5 2 3 4 2 2 3 2 3 3 4 0 2 4 3 2 5 4 3 0 3 0 2 1 2 3 2 2 3 2 1 4 2 3 4 2 2 0 3 1 2 3 5 1 4 0 3 3 3 4 0 3 2 3 2 1 2 3 7 3 1 1 3 3 1 3 4 3 3 1 1 2 0 4 4 3 1 4 6 4 4 4 3 3 2 3 2 1 2 2 5 1 0 3 3 2 4 2 3 2 3 3 4 3 2 2 1 4 2 4 2 1 3 3 4 3 3 1 2 4 3 5 2 4 4 6 4 5 2 2 4 3 1 3 2 2 3 1 6 1 5 2 5 4 1 1 0 5 2 1 0 3 3 2 3 2 1 2 2 0 3 6 5 3 1 0 3 3 3 3 2 2 2 2 0 2 7 4 1 1\n"
     ]
    }
   ],
   "source": [
    "with open(\"rosalind_cons.txt\", \"r\") as f:\n",
    "    s = \"\"\n",
    "    for line in f:\n",
    "        s += line.strip(\"\\n\")\n",
    "\n",
    "raw_chains = s.split(\">Rosalind_\")[1:]\n",
    "dna_matrix = []\n",
    "\n",
    "for i in raw_chains:\n",
    "    dna_matrix.append([j for j in i if not j.isdigit()])\n",
    "\n",
    "A, C, G, T = [], [], [], []\n",
    "\n",
    "for j in range(len(dna_matrix[0])):\n",
    "    a, c, g, t = 0, 0, 0, 0\n",
    "    \n",
    "    for i in range(len(dna_matrix)):\n",
    "        \n",
    "        if dna_matrix[i][j] == \"A\":\n",
    "            a += 1\n",
    "        elif dna_matrix[i][j] == \"C\":\n",
    "            c += 1\n",
    "        elif dna_matrix[i][j] == \"G\":\n",
    "            g += 1\n",
    "        elif dna_matrix[i][j] == \"T\":\n",
    "            t += 1\n",
    "        else:\n",
    "            print(\"Bad symbol!\")\n",
    "    \n",
    "    A.append(a)\n",
    "    C.append(c)\n",
    "    G.append(g)\n",
    "    T.append(t)\n",
    "\n",
    "if len(A) != len(C) != len(G) != len(T):\n",
    "    print(\"Wrong profile!\")\n",
    "\n",
    "profile = {\"A\": A, \"C\": C, \"G\": G, \"T\":T}\n",
    "consensus = \"\"\n",
    "\n",
    "for i in range(len(A)):\n",
    "    consensus += sorted(profile.items(), key=lambda item: item[1][i])[-1][0]\n",
    "\n",
    "print(consensus)\n",
    "print(\"A:\", *A)\n",
    "print(\"C:\", *C)\n",
    "print(\"G:\", *G)\n",
    "print(\"T:\", *T)"
   ]
  },
  {
   "cell_type": "code",
   "execution_count": null,
   "metadata": {},
   "outputs": [],
   "source": []
  },
  {
   "cell_type": "code",
   "execution_count": null,
   "metadata": {},
   "outputs": [],
   "source": []
  },
  {
   "cell_type": "code",
   "execution_count": null,
   "metadata": {},
   "outputs": [],
   "source": []
  },
  {
   "cell_type": "code",
   "execution_count": null,
   "metadata": {},
   "outputs": [],
   "source": []
  },
  {
   "cell_type": "code",
   "execution_count": null,
   "metadata": {},
   "outputs": [],
   "source": []
  },
  {
   "cell_type": "code",
   "execution_count": null,
   "metadata": {},
   "outputs": [],
   "source": []
  },
  {
   "cell_type": "code",
   "execution_count": null,
   "metadata": {},
   "outputs": [],
   "source": []
  }
 ],
 "metadata": {
  "kernelspec": {
   "display_name": "Python 3",
   "language": "python",
   "name": "python3"
  },
  "language_info": {
   "codemirror_mode": {
    "name": "ipython",
    "version": 3
   },
   "file_extension": ".py",
   "mimetype": "text/x-python",
   "name": "python",
   "nbconvert_exporter": "python",
   "pygments_lexer": "ipython3",
   "version": "3.7.4"
  }
 },
 "nbformat": 4,
 "nbformat_minor": 2
}
